{
 "cells": [
  {
   "cell_type": "markdown",
   "metadata": {},
   "source": [
    "# IS608 Project -- Sreejaya Vasudevannair\n"
   ]
  },
  {
   "cell_type": "markdown",
   "metadata": {},
   "source": [
    "#### Project Title: US Motor Vehicle Fatality Analysis\n",
    "The goal of this project is to create choropleth map of US Motor Vehicle Fatality on US State level. \n",
    "The National Highway Traffic Safety Administration(NHTSA) has a dataset called  **[Fatality Reporting System(FARS)](ftp://ftp.nhtsa.dot.gov/fars) ** to record every fatal traffic crash in the US. Collected data include \n",
    "1.\tCrash characteristics\n",
    "2.\tVehicle characteristics\n",
    "3.\tPerson characteristics\n",
    "4.\tWeather and time of the day.\n",
    "\n",
    "The data source is from ftp://ftp.nhtsa.dot.gov/fars/2014  and http://www-fars.nhtsa.dot.gov/Trends/TrendsGeneral.aspx.\n",
    "The files are saved as .dbf. I converted them to comma delimited vectors(CSV). "
   ]
  },
  {
   "cell_type": "code",
   "execution_count": 7,
   "metadata": {
    "collapsed": true
   },
   "outputs": [],
   "source": [
    "%matplotlib inline\n",
    "import numpy as np\n",
    "from numpy import *\n",
    "import random\n",
    "import matplotlib.pyplot as plt\n",
    "import pandas as pd\n",
    "\n",
    "import plotly\n",
    "from plotly.graph_objs import Scatter, Layout\n",
    "import plotly.plotly as py\n",
    "import plotly.graph_objs as go"
   ]
  },
  {
   "cell_type": "markdown",
   "metadata": {},
   "source": [
    "** Fatality trend from 1994 to 2014 **"
   ]
  },
  {
   "cell_type": "code",
   "execution_count": 55,
   "metadata": {
    "collapsed": false
   },
   "outputs": [
    {
     "data": {
      "text/html": [
       "<div id=\"0099fa0e-fc54-4745-8b00-445e53c3fe7b\" style=\"height: 525; width: 100%;\" class=\"plotly-graph-div\"></div><script type=\"text/javascript\">require([\"plotly\"], function(Plotly) { window.PLOTLYENV=window.PLOTLYENV || {};window.PLOTLYENV.BASE_URL=\"https://plot.ly\";Plotly.newPlot(\"0099fa0e-fc54-4745-8b00-445e53c3fe7b\", [{\"y\": [36254, 37241, 37494, 37324, 37107, 37140, 37526, 37862, 38491, 38477, 38444, 39252, 38648, 37435, 34172, 30862, 30296, 29867, 31006, 30203, 29989], \"x\": [1994, 1995, 1996, 1997, 1998, 1999, 2000, 2001, 2002, 2003, 2004, 2005, 2006, 2007, 2008, 2009, 2010, 2011, 2012, 2013, 2014]}], {\"yaxis\": {\"titlefont\": {\"color\": \"#7f7f7f\", \"family\": \"Courier New, monospace\", \"size\": 18}, \"title\": \"Count\"}, \"xaxis\": {\"titlefont\": {\"color\": \"#7f7f7f\", \"family\": \"Courier New, monospace\", \"size\": 18}, \"title\": \"Year\"}, \"title\": \"Total Crashes By Year\"}, {\"linkText\": \"Export to plot.ly\", \"showLink\": true})});</script>"
      ],
      "text/plain": [
       "<IPython.core.display.HTML object>"
      ]
     },
     "metadata": {},
     "output_type": "display_data"
    }
   ],
   "source": [
    "\n",
    "#df=pd.read_csv('C:/DataAnalytics/MSDASemester3/608/Project/Data_proj/CSV/USAFatalCrashes1994_2014.csv')\n",
    "df=pd.read_csv('https://raw.githubusercontent.com/srajeev1/IS608Project/master/data/USAFatalCrashes1994_2014.csv')\n",
    "plotly.offline.init_notebook_mode() # run at the start of every notebook\n",
    "plotly.offline.iplot({\n",
    "\"data\": [{\n",
    "    \"x\": df.Year,\n",
    "    \"y\": df.Total\n",
    "}],\n",
    "      \n",
    "\"layout\": go.Layout(\n",
    "    title='Total Crashes By Year',\n",
    "    xaxis=dict(\n",
    "        title='Year',\n",
    "        titlefont=dict(\n",
    "            family='Courier New, monospace',\n",
    "            size=18,\n",
    "            color='#7f7f7f'\n",
    "        )\n",
    "    ),\n",
    "    yaxis=dict(\n",
    "        title='Count',\n",
    "        titlefont=dict(\n",
    "            family='Courier New, monospace',\n",
    "            size=18,\n",
    "            color='#7f7f7f'\n",
    "        )\n",
    "    )\n",
    ")\n",
    "})"
   ]
  },
  {
   "cell_type": "markdown",
   "metadata": {},
   "source": [
    "The Fatality Rate has declining from 2005."
   ]
  },
  {
   "cell_type": "markdown",
   "metadata": {},
   "source": [
    "### Top 5 US States based of Traffic fatality Rates.###"
   ]
  },
  {
   "cell_type": "code",
   "execution_count": 57,
   "metadata": {
    "collapsed": false
   },
   "outputs": [
    {
     "name": "stderr",
     "output_type": "stream",
     "text": [
      "C:\\Anaconda2\\lib\\site-packages\\ipykernel\\__main__.py:8: FutureWarning:\n",
      "\n",
      "sort(columns=....) is deprecated, use sort_values(by=.....)\n",
      "\n"
     ]
    },
    {
     "data": {
      "text/html": [
       "<div>\n",
       "<table border=\"1\" class=\"dataframe\">\n",
       "  <thead>\n",
       "    <tr style=\"text-align: right;\">\n",
       "      <th></th>\n",
       "      <th>California</th>\n",
       "      <th>Texas</th>\n",
       "      <th>Florida</th>\n",
       "      <th>Georgia</th>\n",
       "      <th>North Carolina</th>\n",
       "    </tr>\n",
       "  </thead>\n",
       "  <tbody>\n",
       "    <tr>\n",
       "      <th>1994</th>\n",
       "      <td>4232</td>\n",
       "      <td>3187</td>\n",
       "      <td>2687</td>\n",
       "      <td>1425</td>\n",
       "      <td>1431</td>\n",
       "    </tr>\n",
       "    <tr>\n",
       "      <th>1995</th>\n",
       "      <td>4192</td>\n",
       "      <td>3183</td>\n",
       "      <td>2805</td>\n",
       "      <td>1488</td>\n",
       "      <td>1448</td>\n",
       "    </tr>\n",
       "    <tr>\n",
       "      <th>1996</th>\n",
       "      <td>3989</td>\n",
       "      <td>3742</td>\n",
       "      <td>2753</td>\n",
       "      <td>1573</td>\n",
       "      <td>1494</td>\n",
       "    </tr>\n",
       "    <tr>\n",
       "      <th>1997</th>\n",
       "      <td>3688</td>\n",
       "      <td>3513</td>\n",
       "      <td>2785</td>\n",
       "      <td>1577</td>\n",
       "      <td>1483</td>\n",
       "    </tr>\n",
       "    <tr>\n",
       "      <th>1998</th>\n",
       "      <td>3494</td>\n",
       "      <td>3586</td>\n",
       "      <td>2825</td>\n",
       "      <td>1568</td>\n",
       "      <td>1596</td>\n",
       "    </tr>\n",
       "  </tbody>\n",
       "</table>\n",
       "</div>"
      ],
      "text/plain": [
       "     California Texas Florida Georgia North Carolina\n",
       "1994       4232  3187    2687    1425           1431\n",
       "1995       4192  3183    2805    1488           1448\n",
       "1996       3989  3742    2753    1573           1494\n",
       "1997       3688  3513    2785    1577           1483\n",
       "1998       3494  3586    2825    1568           1596"
      ]
     },
     "execution_count": 57,
     "metadata": {},
     "output_type": "execute_result"
    }
   ],
   "source": [
    "FatalitybySTATE_Data=pd.read_csv('https://raw.githubusercontent.com/srajeev1/IS608Project/master/data/USAFatalities_FatalityRatesbySTATE1994_2014.csv')\n",
    "FatalitybySTATE_Data =FatalitybySTATE_Data[pd.notnull(FatalitybySTATE_Data['State'])]\n",
    "\n",
    "#find the total fatality for 1994-2014\n",
    "FatalitybySTATE_df =FatalitybySTATE_Data[FatalitybySTATE_Data.columns[0:23]]\n",
    "FatalitybySTATE_df =FatalitybySTATE_df.drop(FatalitybySTATE_df.columns[1],axis=1)\n",
    "FatalitybySTATE_df['Total']=FatalitybySTATE_df.sum(axis=1)\n",
    "FatalitybySTATE_df=FatalitybySTATE_df.sort(['Total'],ascending=[0])\n",
    "\n",
    "#top 5 States\n",
    "FatalitybySTATE_df[0:1].drop(FatalitybySTATE_df.columns[0],axis=1)\n",
    "FatalitybySTATE_dt=FatalitybySTATE_df[1:6].transpose()\n",
    "FatalitybySTATE_dt=FatalitybySTATE_dt[1:22]\n",
    "FatalitybySTATE_dt.columns=['California', 'Texas', 'Florida', 'Georgia', 'North Carolina']\n",
    "FatalitybySTATE_dt.head(5)"
   ]
  },
  {
   "cell_type": "code",
   "execution_count": 17,
   "metadata": {
    "collapsed": false
   },
   "outputs": [
    {
     "data": {
      "image/png": "[encoded data removed]",
      "text/plain": [
       "<matplotlib.figure.Figure at 0x99f3e10>"
      ]
     },
     "metadata": {},
     "output_type": "display_data"
    }
   ],
   "source": [
    "py.sign_in('sreejaya', '18o7jxvx8l')\n",
    "\n",
    "plots = FatalitybySTATE_dt.plot(subplots=False, figsize=(10, 4),)\n",
    "plt.legend(loc='center left')\n",
    "\n",
    "plt .show()"
   ]
  },
  {
   "cell_type": "markdown",
   "metadata": {},
   "source": [
    "When we look at the top5 states we could not see any significant reduction in the traffic accidents."
   ]
  },
  {
   "cell_type": "markdown",
   "metadata": {},
   "source": []
  },
  {
   "cell_type": "markdown",
   "metadata": {},
   "source": [
    "### Create choropleth map of the rate of accidents per State "
   ]
  },
  {
   "cell_type": "code",
   "execution_count": null,
   "metadata": {
    "collapsed": true
   },
   "outputs": [],
   "source": []
  },
  {
   "cell_type": "code",
   "execution_count": 58,
   "metadata": {
    "collapsed": false
   },
   "outputs": [
    {
     "name": "stderr",
     "output_type": "stream",
     "text": [
      "C:\\Anaconda2\\lib\\site-packages\\ipykernel\\__main__.py:15: SettingWithCopyWarning:\n",
      "\n",
      "\n",
      "A value is trying to be set on a copy of a slice from a DataFrame.\n",
      "Try using .loc[row_indexer,col_indexer] = value instead\n",
      "\n",
      "See the caveats in the documentation: http://pandas.pydata.org/pandas-docs/stable/indexing.html#indexing-view-versus-copy\n",
      "\n"
     ]
    }
   ],
   "source": [
    "#Collected State-County Data from Bokeh sample Data. Joined this fime with accidents file to get the state names.\n",
    "import plotly.plotly as py\n",
    "USAccidents_Data=pd.read_csv('https://raw.githubusercontent.com/srajeev1/IS608Project/master/data/USAAccidents2014.csv')\n",
    "\n",
    "#USAccidents_Data.head(10)\n",
    "\n",
    "Counties=pd.read_csv('https://raw.githubusercontent.com/srajeev1/IS608Project/master/data/US_Counties.csv')\n",
    "#Counties.head(10)\n",
    "\n",
    "Accidents_county = pd.merge(left=USAccidents_Data,right=Counties,  left_on=['STATE','COUNTY'], right_on=['STATE num','COUNTY num'])\n",
    "\n",
    "Accidents_countydf =Accidents_county[['State Abbr.','STATE','COUNTY','VE_TOTAL','LATITUDE','LONGITUD','State-County','Geographic Name']]\n",
    "#Accidents_countydf.head(10)\n",
    "Accidents_countydf1 =Accidents_county[['State Abbr.','VE_TOTAL']]\n",
    "Accidents_countydf1['TotalAccidents'] =Accidents_countydf1.groupby(['State Abbr.'])['VE_TOTAL'].transform(np.sum)\n",
    "\n",
    "Accidents_countydf1=Accidents_countydf1.drop_duplicates(['State Abbr.','TotalAccidents'])\n",
    "Accidents_countydf1.head(50)\n",
    "\n",
    "for col in Accidents_countydf1.columns:\n",
    "    Accidents_countydf1[col] = Accidents_countydf1[col].astype(str)\n",
    "\n",
    "scl = [[0.0, 'rgb(242,240,247)'],[0.2, 'rgb(218,218,235)'],[0.4, 'rgb(188,189,220)'],\\\n",
    "            [0.6, 'rgb(158,154,200)'],[0.8, 'rgb(117,107,177)'],[1.0, 'rgb(84,39,143)']]\n",
    "\n",
    "\n",
    "\n",
    "data = [ dict(\n",
    "        type='choropleth',\n",
    "        colorscale = scl,\n",
    "        autocolorscale = False,\n",
    "        locations = Accidents_countydf1['State Abbr.'],\n",
    "        z = Accidents_countydf1['TotalAccidents'].astype(float),\n",
    "        locationmode = 'USA-states',\n",
    "        text = Accidents_countydf1['State Abbr.'],\n",
    "        marker = dict(\n",
    "            line = dict (\n",
    "                color = 'rgb(255,255,255)',\n",
    "                width = 2\n",
    "            )\n",
    "        ),\n",
    "        colorbar = dict(\n",
    "            title = \"US Traffic crashes\"\n",
    "        )\n",
    "    ) ]\n",
    "\n",
    "layout = dict(\n",
    "        title = '2014 US Traffic Crashes By States)',\n",
    "        geo = dict(\n",
    "            scope='usa',\n",
    "            projection=dict( type='albers usa' ),\n",
    "            showlakes = True,\n",
    "            lakecolor = 'rgb(255, 255, 255)',\n",
    "        ),\n",
    "    )\n",
    "    \n",
    "fig = dict( data=data, layout=layout )\n",
    "py.iplot(fig, validate=False, filename='d3-2014 US Traffic Crashes By States')\n",
    "\n",
    "url = py.plot( fig, filename='d3-2014 US Traffic Crashes By States' )\n"
   ]
  },
  {
   "cell_type": "code",
   "execution_count": 59,
   "metadata": {
    "collapsed": false
   },
   "outputs": [
    {
     "data": {
      "text/html": [
       "<iframe src=https://plot.ly/~sreejaya/12/_2014-us-traffic-crashes-by-states/ width=100% height=550></iframe>"
      ],
      "text/plain": [
       "<IPython.core.display.HTML object>"
      ]
     },
     "execution_count": 59,
     "metadata": {},
     "output_type": "execute_result"
    }
   ],
   "source": [
    "\n",
    "from IPython.display import HTML\n",
    "HTML('<iframe src=https://plot.ly/~sreejaya/12/_2014-us-traffic-crashes-by-states/ width=100% height=550></iframe>')\n"
   ]
  },
  {
   "cell_type": "markdown",
   "metadata": {},
   "source": [
    "### What causes most of the accidents?"
   ]
  },
  {
   "cell_type": "markdown",
   "metadata": {},
   "source": [
    "### 1. Alcohol\n"
   ]
  },
  {
   "cell_type": "code",
   "execution_count": 26,
   "metadata": {
    "collapsed": false
   },
   "outputs": [],
   "source": [
    "from bokeh.plotting import *\n",
    "dfAlcohol=pd.read_csv('C:/DataAnalytics/MSDASemester3/608/Project/Data_proj/CSV/USAAlcohol1994-2014.csv')\n",
    "dfAlcohol.head(5)\n",
    "percents =dfAlcohol['Year']"
   ]
  },
  {
   "cell_type": "code",
   "execution_count": 60,
   "metadata": {
    "collapsed": false
   },
   "outputs": [],
   "source": [
    "import plotly.plotly as py\n",
    "from plotly.graph_objs import *\n",
    "\n",
    "fig = {\n",
    "    'data': [\n",
    "        {\n",
    "            'labels': ['without Alcohol-21005','with Alcohol-11906'],\n",
    "            'values': [21005,11906],\n",
    "            'type': 'pie',\n",
    "            'name': '2010-Total(32999)',\n",
    "            'marker': {'colors': ['rgb(56, 75, 126)']},\n",
    "            'domain': {'x': [0, .48],\n",
    "                       'y': [0, .49]},\n",
    "            'hoverinfo':'label+percent+name',\n",
    "            'textinfo':'none'\n",
    "        },\n",
    "        {\n",
    "            'labels': ['without Alcohol-20848','with Alcohol-11527'],\n",
    "            'values': [20848,11527],\n",
    "            'type': 'pie',\n",
    "            'name': '2011-Total(32479)',\n",
    "            'marker': {'colors': ['rgb(56, 75, 126)']},\n",
    "            'domain': {'x': [.52, 1],\n",
    "                       'y': [0, .49]},\n",
    "            'hoverinfo':'label+percent+name',\n",
    "            'textinfo':'none'\n",
    "        },\n",
    "        {\n",
    "            'labels': ['without Alcohol-21563','with Alcohol-12118'],\n",
    "            'values': [21563,12118],\n",
    "            'type': 'pie',\n",
    "            'name': '2012-Total(33782)',\n",
    "            'marker': {'colors': ['rgb(56, 75, 126)']},\n",
    "            'domain': {'x': [0, .48],\n",
    "                       'y': [.51, 1]},\n",
    "            'hoverinfo':'label+percent+name',\n",
    "            'textinfo':'none'\n",
    "        },\n",
    "        {\n",
    "            'labels': ['without Alcohol-20843','with Alcohol-11941'],\n",
    "            'values': [20843,11941],\n",
    "            'type': 'pie',\n",
    "            'name': '2013-Total(32894)',\n",
    "            'marker': {'colors': ['rgb(56, 75, 126)']},\n",
    "             'domain': {'x': [.52, 1],\n",
    "                       'y': [.51, 1]},\n",
    "            'hoverinfo':'label+percent+name',\n",
    "            'textinfo':'none'\n",
    "        },\n",
    "        {\n",
    "            'labels': ['without Alcohol-20856','with Alcohol-11731'],\n",
    "            'values': [20856,11731],\n",
    "            'type': 'pie',\n",
    "            'name': '2014-Total(32675)',\n",
    "            'marker': {'colors': ['rgb(56, 75, 126)']},\n",
    "            'domain': {'x': [2, .48],\n",
    "                       'y': [2, .49]},\n",
    "            'hoverinfo':'label+percent+name',\n",
    "            'textinfo':'none'\n",
    "        }\n",
    "    ],\n",
    "    'layout': {'title': '2010-2014 Alcohol Relatd Crashes ',\n",
    "               'showlegend': True}\n",
    "}\n",
    "\n",
    "#fig = dict(data=data, layout=layout)\n",
    "\n",
    "#py.iplot(fig, validate=False, filename='d3-Alcohol Related Accidents from 2010-2014')\n",
    "url = py.plot(fig, filename='d3-Alcohol Related Accidents from 2010-2014')"
   ]
  },
  {
   "cell_type": "code",
   "execution_count": 61,
   "metadata": {
    "collapsed": false
   },
   "outputs": [
    {
     "data": {
      "text/html": [
       "<iframe src=https://plot.ly/~sreejaya/10/_2010-2014-alcohol-relatd-crashes/ width=100% height=550></iframe>"
      ],
      "text/plain": [
       "<IPython.core.display.HTML object>"
      ]
     },
     "execution_count": 61,
     "metadata": {},
     "output_type": "execute_result"
    }
   ],
   "source": [
    "from IPython.display import HTML\n",
    "HTML('<iframe src=https://plot.ly/~sreejaya/10/_2010-2014-alcohol-relatd-crashes/ width=100% height=550></iframe>')\n"
   ]
  },
  {
   "cell_type": "markdown",
   "metadata": {},
   "source": [
    "** More than 35% of accidents are Alcohol related. The rate has no change in years. **"
   ]
  },
  {
   "cell_type": "markdown",
   "metadata": {},
   "source": [
    "### 2. Weather Related ###"
   ]
  },
  {
   "cell_type": "code",
   "execution_count": 62,
   "metadata": {
    "collapsed": false
   },
   "outputs": [
    {
     "data": {
      "text/plain": [
       "<matplotlib.axes._subplots.AxesSubplot at 0x21856278>"
      ]
     },
     "execution_count": 62,
     "metadata": {},
     "output_type": "execute_result"
    },
    {
     "data": {
      "image/png": "[encoded data removed]",
      "text/plain": [
       "<matplotlib.figure.Figure at 0x1ed23048>"
      ]
     },
     "metadata": {},
     "output_type": "display_data"
    }
   ],
   "source": [
    "USAccidents_Data.WeatherVal.value_counts().plot(kind='bar')"
   ]
  },
  {
   "cell_type": "markdown",
   "metadata": {},
   "source": [
    "** Weather has no significant impact on accidents. **"
   ]
  },
  {
   "cell_type": "markdown",
   "metadata": {},
   "source": [
    "### 3. Time of the day ###"
   ]
  },
  {
   "cell_type": "code",
   "execution_count": 63,
   "metadata": {
    "collapsed": false
   },
   "outputs": [
    {
     "data": {
      "text/plain": [
       "<matplotlib.axes._subplots.AxesSubplot at 0x220a7a20>"
      ]
     },
     "execution_count": 63,
     "metadata": {},
     "output_type": "execute_result"
    },
    {
     "data": {
      "image/png": "[encoded data removed]",
      "text/plain": [
       "<matplotlib.figure.Figure at 0x219de080>"
      ]
     },
     "metadata": {},
     "output_type": "display_data"
    }
   ],
   "source": [
    "USAccidents_Data.HOUR.value_counts().plot(kind='bar')"
   ]
  },
  {
   "cell_type": "markdown",
   "metadata": {},
   "source": [
    "** This chart shows most of the accidents happen during or after sunset. So sun light also has an impact on accidents. **"
   ]
  },
  {
   "cell_type": "markdown",
   "metadata": {},
   "source": [
    "### 4. Day of the week ###"
   ]
  },
  {
   "cell_type": "code",
   "execution_count": 52,
   "metadata": {
    "collapsed": false
   },
   "outputs": [
    {
     "data": {
      "text/html": [
       "<iframe src=http://htmlpreview.github.io/?http://github.com/srajeev1/IS608Project/blob/master/googlechart.html width=100% height=550></iframe>"
      ],
      "text/plain": [
       "<IPython.core.display.HTML object>"
      ]
     },
     "execution_count": 52,
     "metadata": {},
     "output_type": "execute_result"
    }
   ],
   "source": [
    "from IPython.display import HTML\n",
    "HTML('<iframe src=http://htmlpreview.github.io/?http://github.com/srajeev1/IS608Project/blob/master/googlechart.html width=100% height=550></iframe>')\n"
   ]
  },
  {
   "cell_type": "markdown",
   "metadata": {},
   "source": [
    "It is clear from the above chart that week end's are more prone to accidents than regular week hours. \n"
   ]
  },
  {
   "cell_type": "code",
   "execution_count": null,
   "metadata": {
    "collapsed": true
   },
   "outputs": [],
   "source": []
  }
 ],
 "metadata": {
  "kernelspec": {
   "display_name": "Python 2",
   "language": "python",
   "name": "python2"
  },
  "language_info": {
   "codemirror_mode": {
    "name": "ipython",
    "version": 2
   },
   "file_extension": ".py",
   "mimetype": "text/x-python",
   "name": "python",
   "nbconvert_exporter": "python",
   "pygments_lexer": "ipython2",
   "version": "2.7.11"
  }
 },
 "nbformat": 4,
 "nbformat_minor": 0
}
